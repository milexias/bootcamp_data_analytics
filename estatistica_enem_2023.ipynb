{
  "nbformat": 4,
  "nbformat_minor": 0,
  "metadata": {
    "colab": {
      "provenance": []
    },
    "kernelspec": {
      "name": "python3",
      "display_name": "Python 3"
    },
    "language_info": {
      "name": "python"
    }
  },
  "cells": [
    {
      "cell_type": "markdown",
      "source": [
        "# Estatística Frequências e Medidas"
      ],
      "metadata": {
        "id": "l5VookbR4W9c"
      }
    },
    {
      "cell_type": "markdown",
      "source": [
        "#### **Desafio Final:**\n",
        "\n",
        "Considerando a base de dados de enem_2023.json responda as questões abaixo (os dados são fictícios)."
      ],
      "metadata": {
        "id": "z_DEFnAk4cME"
      }
    },
    {
      "cell_type": "code",
      "source": [
        "import pandas as pd\n",
        "import numpy as np\n",
        "import seaborn as sns\n",
        "import matplotlib.pyplot as plt\n",
        "import json"
      ],
      "metadata": {
        "id": "aNNXj-hA_zMu"
      },
      "execution_count": 299,
      "outputs": []
    },
    {
      "cell_type": "code",
      "source": [
        "arquivo = 'enem_2023.json'\n",
        "df = pd.read_json(arquivo)\n",
        "df.reset_index(drop=True, inplace=True)\n",
        "print(df)"
      ],
      "metadata": {
        "colab": {
          "base_uri": "https://localhost:8080/"
        },
        "id": "sAfxAXOWBAXd",
        "outputId": "d545e233-d327-43ed-bbb3-cca9acbaf91e"
      },
      "execution_count": 300,
      "outputs": [
        {
          "output_type": "stream",
          "name": "stdout",
          "text": [
            "     Linguagens  Ciências humanas  Ciências da natureza  Matemática  \\\n",
            "0    585.669300        686.512178            390.482473  452.281333   \n",
            "1    359.384608        642.084134                   NaN  412.205207   \n",
            "2    622.732384        495.510719            443.183580  669.683401   \n",
            "3    350.164605        602.041588            413.979810  676.608952   \n",
            "4    384.093657        489.249140            609.758123  520.426698   \n",
            "..          ...               ...                   ...         ...   \n",
            "995  455.479216        557.756326            511.347833  510.358766   \n",
            "996  457.755594        444.616952            542.028624  419.689692   \n",
            "997  551.173161        568.769704            508.034658         NaN   \n",
            "998  495.804002        522.125008            414.167228  451.696456   \n",
            "999  435.332469        425.941701                   NaN  466.003345   \n",
            "\n",
            "        Redação    Sexo  \n",
            "0    546.371706   Homem  \n",
            "1    741.825256  Mulher  \n",
            "2    684.515750   Homem  \n",
            "3    671.237114   Homem  \n",
            "4    744.375048   Homem  \n",
            "..          ...     ...  \n",
            "995         NaN   Homem  \n",
            "996  715.984249  Mulher  \n",
            "997  798.408655   Homem  \n",
            "998  593.392939   Homem  \n",
            "999  559.382918   Homem  \n",
            "\n",
            "[1000 rows x 6 columns]\n"
          ]
        }
      ]
    },
    {
      "cell_type": "code",
      "source": [
        "# conhecendo os dados\n",
        "df.info()"
      ],
      "metadata": {
        "colab": {
          "base_uri": "https://localhost:8080/"
        },
        "id": "wW7xL8FKGS0l",
        "outputId": "ae989ea2-5c5a-4af7-8863-9dd7e8c0bf42"
      },
      "execution_count": 301,
      "outputs": [
        {
          "output_type": "stream",
          "name": "stdout",
          "text": [
            "<class 'pandas.core.frame.DataFrame'>\n",
            "RangeIndex: 1000 entries, 0 to 999\n",
            "Data columns (total 6 columns):\n",
            " #   Column                Non-Null Count  Dtype  \n",
            "---  ------                --------------  -----  \n",
            " 0   Linguagens            897 non-null    float64\n",
            " 1   Ciências humanas      936 non-null    float64\n",
            " 2   Ciências da natureza  824 non-null    float64\n",
            " 3   Matemática            924 non-null    float64\n",
            " 4   Redação               860 non-null    float64\n",
            " 5   Sexo                  1000 non-null   object \n",
            "dtypes: float64(5), object(1)\n",
            "memory usage: 47.0+ KB\n"
          ]
        }
      ]
    },
    {
      "cell_type": "markdown",
      "source": [
        "Você é uma pesquisadora de um cursinho para estudantes que querem ingressar na universidade em 2025. Seu objetivo é retirar informações da base de dados do enem do ano anterior para alinhar melhor as estratégias do cursinho para cada estudante.\n",
        "\n",
        "O dado possui 6 colunas, 5 delas representam as disciplinas do ENEM e uma o gênero das pessoas que fizeram a prova. No dado existe a representação de 1000 pessoas, sendo cada uma delas uma linha.\n"
      ],
      "metadata": {
        "id": "PV_DaLIs4hMc"
      }
    },
    {
      "cell_type": "markdown",
      "source": [
        "#### 1. Qual das disciplinas tem a maior amplitude de nota?"
      ],
      "metadata": {
        "id": "O72hbIX640el"
      }
    },
    {
      "cell_type": "code",
      "source": [
        "# selecionando amplitude de notas baseado na função describe\n",
        "\n",
        "def describe_amplitude(df):\n",
        "    df = df.describe()\n",
        "    df.loc[\"amplitude\"] = df.loc['max'] - df.loc['min']\n",
        "    return df\n",
        "\n",
        "amplitude_notas = describe_amplitude(df).loc[\"amplitude\"]\n",
        "\n",
        "print(f'A maior amplitude de notas foi de {amplitude_notas.max().round(2)} para a disciplina {amplitude_notas.idxmax()}.')"
      ],
      "metadata": {
        "id": "rr4Yk5yk4jI7",
        "colab": {
          "base_uri": "https://localhost:8080/"
        },
        "outputId": "7a103546-bea2-42b4-bf60-9ba616ebd805"
      },
      "execution_count": 302,
      "outputs": [
        {
          "output_type": "stream",
          "name": "stdout",
          "text": [
            "A maior amplitude de notas foi de 729.16 para a disciplina Redação.\n"
          ]
        }
      ]
    },
    {
      "cell_type": "markdown",
      "source": [
        "#### 2. Qual é a média e a mediana para cada uma das disciplinas?"
      ],
      "metadata": {
        "id": "742-Kdum4sW1"
      }
    },
    {
      "cell_type": "code",
      "source": [
        "# criando variável de disciplinas\n",
        "disciplinas = ['Linguagens', 'Ciências humanas', 'Ciências da natureza', 'Matemática', 'Redação']\n",
        "\n",
        "# definindo média e mediana por disciplina\n",
        "media_disciplina = df[disciplinas].mean().round(2).to_string(header=False)\n",
        "mediana_disciplina = df[disciplinas].dropna().median().round(2).to_string(header=False)\n",
        "\n",
        "print(f'A média para cada disciplina é de:\\n{media_disciplina}\\n\\nA mediana de cada disciplina é de:\\n{mediana_disciplina}')"
      ],
      "metadata": {
        "colab": {
          "base_uri": "https://localhost:8080/"
        },
        "id": "p9-5jC9guKj3",
        "outputId": "7ad21259-61c8-4b54-904c-a20f7c72ce7f"
      },
      "execution_count": 303,
      "outputs": [
        {
          "output_type": "stream",
          "name": "stdout",
          "text": [
            "A média para cada disciplina é de:\n",
            "Linguagens              514.52\n",
            "Ciências humanas        527.04\n",
            "Ciências da natureza    499.32\n",
            "Matemática              535.97\n",
            "Redação                 637.78\n",
            "\n",
            "A mediana de cada disciplina é de:\n",
            "Linguagens              517.13\n",
            "Ciências humanas        528.50\n",
            "Ciências da natureza    502.94\n",
            "Matemática              532.96\n",
            "Redação                 639.60\n"
          ]
        }
      ]
    },
    {
      "cell_type": "markdown",
      "source": [
        "#### 3. Considerando o curso de Ciência da Computação da UFPE, onde o peso cada uma das disciplinas ponderado:\n",
        "\n",
        "```\n",
        "a. Redação - 2\n",
        "b. Matemática e suas Tecnologias - 4\n",
        "c. Linguagens, Códigos e suas Tecnologias - 2\n",
        "d. Ciências Humanas e suas Tecnologias - 1\n",
        "e. Ciências da Natureza e suas Tecnologias - 1\n",
        "```\n",
        "\n",
        "Qual o desvio padrão e média das notas dos 500 estudantes mais bem colocados considerando esses pesos?"
      ],
      "metadata": {
        "id": "fb-cHJWD4tcA"
      }
    },
    {
      "cell_type": "code",
      "source": [
        "# definindo os pesos\n",
        "peso_ciencias_comp = {'Redação': 2, 'Matemática': 4, 'Linguagens': 2, 'Ciências humanas': 1, 'Ciências da natureza': 1}\n",
        "\n",
        "# calculando a média ponderada para todas as disciplinas\n",
        "ponderada_ciencias_comp = np.average(df[disciplinas], weights=[peso_ciencias_comp[d] for d in disciplinas], axis=1)\n",
        "\n",
        "# adicionando a média ponderada ao df para o curso de ciências da computação\n",
        "df_ciencias_comp = df.copy()\n",
        "df_ciencias_comp['Média Ponderada'] = ponderada_ciencias_comp\n",
        "\n",
        "# selecionando os 500 estudantes mais bem colocados\n",
        "df_500_ponderado = df_ciencias_comp.nlargest(500, 'Média Ponderada')\n",
        "\n",
        "# calculando a média e o desvio padrão das notas ponderadas\n",
        "media_ponderada_ciencias = df_500_ponderado['Média Ponderada'].mean().round(2)\n",
        "std_ponderado_ciencias = df_500_ponderado['Média Ponderada'].std().round(2)\n",
        "\n",
        "print(f'Média ponderada de notas dos 500 estudantes mais bem colocados: {media_ponderada_ciencias}')\n",
        "print(f'Desvio padrão de notas dos 500 estudantes mais bem colocados: {std_ponderado_ciencias}')"
      ],
      "metadata": {
        "colab": {
          "base_uri": "https://localhost:8080/"
        },
        "id": "l4Sou_J71_M9",
        "outputId": "e6bb1bc9-d6aa-4374-f921-5b447a4ac4d4"
      },
      "execution_count": 304,
      "outputs": [
        {
          "output_type": "stream",
          "name": "stdout",
          "text": [
            "Média ponderada de notas dos 500 estudantes mais bem colocados: 557.29\n",
            "Desvio padrão de notas dos 500 estudantes mais bem colocados: 40.44\n"
          ]
        }
      ]
    },
    {
      "cell_type": "markdown",
      "source": [
        "#### 4. Se todos esses estudantes aplicassem para ciência da computação e existem apenas 40 vagas, qual seria a variância e média da nota dos estudantes que entraram no curso de ciência da computação?"
      ],
      "metadata": {
        "id": "KR4XtjNR4tw1"
      }
    },
    {
      "cell_type": "code",
      "source": [
        "df_40_ponderado = df_ciencias_comp.nlargest(40, 'Média Ponderada')\n",
        "\n",
        "# média e variância dos 40 melhores estudantes\n",
        "media_40_ciencias = np.mean(df_40_ponderado['Média Ponderada'])\n",
        "variancia_40_ciencias = np.var(df_40_ponderado['Média Ponderada'], ddof=1)  # argumento ddof=1 para indicar que é uma amostra\n",
        "\n",
        "# cálculo do desvio padrão da amostra\n",
        "desvio_padrao_ciencias = np.std(df_40_ponderado['Média Ponderada'], ddof=1)\n",
        "\n",
        "print(f\"\\nMédia geral dos 40 melhores estudantes é de: {media_40_ciencias.round(2)}\")\n",
        "print(f\"Variância dos 40 melhores estudantes é de: {variancia_40_ciencias.round(2)}\")\n",
        "print(f\"Desvio padrão da amostra é de: {desvio_padrao_ciencias.round(2)}\")"
      ],
      "metadata": {
        "colab": {
          "base_uri": "https://localhost:8080/"
        },
        "id": "IO-3jaSQZzMq",
        "outputId": "93d8ca66-f9f9-4fb4-9fc7-b40942e05ce1"
      },
      "execution_count": 305,
      "outputs": [
        {
          "output_type": "stream",
          "name": "stdout",
          "text": [
            "\n",
            "Média geral dos 40 melhores estudantes é de: 636.68\n",
            "Variância dos 40 melhores estudantes é de: 295.77\n",
            "Desvio padrão da amostra é de: 17.2\n"
          ]
        }
      ]
    },
    {
      "cell_type": "markdown",
      "source": [
        "#### 5. Qual o valor do teto do terceiro quartil para as disciplinas de matemática e linguagens?"
      ],
      "metadata": {
        "id": "xjXnznQg4uAd"
      }
    },
    {
      "cell_type": "code",
      "source": [
        "# criando variável com o terceiro quartil Q3\n",
        "\n",
        "q3_matematica = df['Matemática'].quantile(0.75).round(2)\n",
        "q3_linguagens = df['Linguagens'].quantile(0.75)\n",
        "\n",
        "print(f'Terceiro quartil para matemática é de: {q3_matematica.round(2)}')\n",
        "print(f'Terceiro quartil para linguagens é de: {q3_linguagens.round(2)}')"
      ],
      "metadata": {
        "id": "FLMLYPbg4uHV",
        "colab": {
          "base_uri": "https://localhost:8080/"
        },
        "outputId": "8f49d558-a6d5-4d51-9449-8273d210a730"
      },
      "execution_count": 306,
      "outputs": [
        {
          "output_type": "stream",
          "name": "stdout",
          "text": [
            "Terceiro quartil para matemática é de: 592.91\n",
            "Terceiro quartil para linguagens é de: 571.64\n"
          ]
        }
      ]
    },
    {
      "cell_type": "markdown",
      "source": [
        "#### 6. Faça o histograma de Redação e Linguagens, de 20 em 20 pontos.Podemos dizer que são histogramas simétricos, justifique e classifique se não assimétricas?"
      ],
      "metadata": {
        "id": "zpxeWwLr4uQp"
      }
    },
    {
      "cell_type": "code",
      "source": [
        "# plotando o histograma de 'Redação'\n",
        "\n",
        "sns.histplot(df['Redação'], bins=20, kde=True, color='#3498db', label='Redação')\n",
        "\n",
        "plt.xlabel('Notas', fontsize=14)\n",
        "plt.ylabel('Frequência', fontsize=14)\n",
        "plt.title('Histograma - Redação', fontsize=16)\n",
        "plt.show()  ### Simétrico"
      ],
      "metadata": {
        "colab": {
          "base_uri": "https://localhost:8080/",
          "height": 479
        },
        "id": "LE_YmGyn8ke6",
        "outputId": "924da3fd-8a1e-4ffe-d28b-1abad9acab4f"
      },
      "execution_count": 307,
      "outputs": [
        {
          "output_type": "display_data",
          "data": {
            "text/plain": [
              "<Figure size 640x480 with 1 Axes>"
            ],
            "image/png": "[encoded data removed]"
          },
          "metadata": {}
        }
      ]
    },
    {
      "cell_type": "code",
      "source": [
        "# definindo função para calcular simetria baseada no Coeficiente de assimetria de Pearson\n",
        "\n",
        "from scipy.stats import skew\n",
        "\n",
        "def calcular_assimetria(df):\n",
        "    df_sem_nan = df.dropna()\n",
        "    skewness = skew(df_sem_nan)\n",
        "\n",
        "    if skewness > 0.5:\n",
        "        return 'Assimetria à Direita (positiva)'\n",
        "    elif -0.5 <= skewness <= 0.5:\n",
        "        return 'Assimetria nula ou próxima de zero'\n",
        "    else:\n",
        "        return 'Assimetria à Esquerda (negativa)'\n",
        "\n",
        "# respondendo simetria\n",
        "\n",
        "resultado_redacao = calcular_assimetria(df['Redação'])\n",
        "\n",
        "print(f\"O resultado da assimetria de Pearson para a disciplina 'Redação' é: \\n{resultado_redacao}.\")"
      ],
      "metadata": {
        "colab": {
          "base_uri": "https://localhost:8080/"
        },
        "id": "RoRacqU9WHc_",
        "outputId": "565b2ced-b597-433a-eb10-e6754f0c6619"
      },
      "execution_count": 308,
      "outputs": [
        {
          "output_type": "stream",
          "name": "stdout",
          "text": [
            "O resultado da assimetria de Pearson para a disciplina 'Redação' é: \n",
            "Assimetria nula ou próxima de zero.\n"
          ]
        }
      ]
    },
    {
      "cell_type": "code",
      "source": [
        "# plotando o histograma de 'Linguagens'\n",
        "\n",
        "sns.histplot(df['Linguagens'], bins=20, kde=True, color='#9b59b6', label='Linguagens')\n",
        "\n",
        "plt.xlabel('Notas', fontsize=14)\n",
        "plt.ylabel('Frequência', fontsize=14)\n",
        "plt.title('Histograma - Linguagens', fontsize=16)\n",
        "plt.show()"
      ],
      "metadata": {
        "colab": {
          "base_uri": "https://localhost:8080/",
          "height": 479
        },
        "id": "4ZyQPK7YAVKy",
        "outputId": "2c40cbb0-0d32-48df-ad5f-b26141f2e224"
      },
      "execution_count": 309,
      "outputs": [
        {
          "output_type": "display_data",
          "data": {
            "text/plain": [
              "<Figure size 640x480 with 1 Axes>"
            ],
            "image/png": "[encoded data removed]"
          },
          "metadata": {}
        }
      ]
    },
    {
      "cell_type": "code",
      "source": [
        "# respondendo simetria\n",
        "\n",
        "resultado_linguagens = calcular_assimetria(df['Linguagens'])\n",
        "print(f\"O resultado da assimetria de Pearson para a coluna 'Linguagens' é: \\n{resultado_linguagens}.\")"
      ],
      "metadata": {
        "colab": {
          "base_uri": "https://localhost:8080/"
        },
        "id": "I8WVRRnOWUYN",
        "outputId": "e8377936-0419-4f67-9fd4-a06165674ade"
      },
      "execution_count": 310,
      "outputs": [
        {
          "output_type": "stream",
          "name": "stdout",
          "text": [
            "O resultado da assimetria de Pearson para a coluna 'Linguagens' é: \n",
            "Assimetria nula ou próxima de zero.\n"
          ]
        }
      ]
    },
    {
      "cell_type": "markdown",
      "source": [
        "#### **<font color='f9e79f'> Resposta: </font>** Ambos os histrogramas são simétricos, baseados no Coeficiente de assimetria de Pearson. Se o coeficiente for nulo ou próximo a zero, a distribuição será simétrica."
      ],
      "metadata": {
        "id": "8zGBMybDbRh3"
      }
    },
    {
      "cell_type": "markdown",
      "source": [
        "#### 7. Agora coloque um range fixo de 0 até 1000, você ainda tem a mesma opinião quanto a simetria?"
      ],
      "metadata": {
        "id": "_isQO6Ok4ufp"
      }
    },
    {
      "cell_type": "code",
      "source": [
        "sns.histplot(df['Redação'], bins=range(0, 1000), kde=True, color='#3498db', label='Redação') ## mesmo código, alteração de bins\n",
        "\n",
        "plt.xlabel('Notas', fontsize=14)\n",
        "plt.ylabel('Frequência', fontsize=14)\n",
        "plt.title('Histograma - Redação', fontsize=16)\n",
        "plt.show()"
      ],
      "metadata": {
        "colab": {
          "base_uri": "https://localhost:8080/",
          "height": 479
        },
        "id": "H7FuH9Uc_xjq",
        "outputId": "06fac891-13c8-42d0-b79a-cf10bc3fbb46"
      },
      "execution_count": 311,
      "outputs": [
        {
          "output_type": "display_data",
          "data": {
            "text/plain": [
              "<Figure size 640x480 with 1 Axes>"
            ],
            "image/png": "[encoded data removed]"
          },
          "metadata": {}
        }
      ]
    },
    {
      "cell_type": "code",
      "source": [
        "sns.histplot(df['Linguagens'],bins=range(0, 1000), kde=True, color='#9b59b6', label='Linguagens') ## mesmo código, alteração de bins\n",
        "\n",
        "plt.xlabel('Notas', fontsize=14)\n",
        "plt.ylabel('Frequência', fontsize=14)\n",
        "plt.title('Histograma - Linguagens', fontsize=16)\n",
        "plt.show()"
      ],
      "metadata": {
        "colab": {
          "base_uri": "https://localhost:8080/",
          "height": 479
        },
        "id": "GlUR0zDS_uQi",
        "outputId": "ef2bd921-dd90-4f72-878b-50a6923ea35b"
      },
      "execution_count": 312,
      "outputs": [
        {
          "output_type": "display_data",
          "data": {
            "text/plain": [
              "<Figure size 640x480 with 1 Axes>"
            ],
            "image/png": "[encoded data removed]"
          },
          "metadata": {}
        }
      ]
    },
    {
      "cell_type": "markdown",
      "source": [
        "#### **<font color='f9e79f'> Resposta: </font>** Os bins utilizados em um histograma podem influenciar visualmente a distribuição dos dados, mas a assimetria em si é uma característica intrínseca da distribuição."
      ],
      "metadata": {
        "id": "CQD6c0bQ12ln"
      }
    },
    {
      "cell_type": "markdown",
      "source": [
        "#### 8. Faça um boxplot do quartil de todas as disciplinas de ciências da natureza e redação. É possível enxergar outliers? Utilize o método IQR."
      ],
      "metadata": {
        "id": "b0VNPXi44us1"
      }
    },
    {
      "cell_type": "code",
      "source": [
        "df_ciencias_redacao = df[[\"Ciências da natureza\", \"Redação\"]].dropna() # dropna para evitar divergência no boxplot\n",
        "\n",
        "def outlier(df, column):\n",
        "    q1 = df[column].quantile(0.25)\n",
        "    q3 = df[column].quantile(0.75)\n",
        "    iqr = q3 - q1\n",
        "    lower = q1 - 1.5 * iqr\n",
        "    upper = q3 + 1.5 * iqr\n",
        "\n",
        "    outliers = []\n",
        "\n",
        "    for value in df[column].values:\n",
        "        if ((value < lower) or (value > upper)):\n",
        "            outliers.append(value)\n",
        "    print(f'Disciplina: {column}, o número de outliers encontrados foi: ', len(outliers))"
      ],
      "metadata": {
        "id": "CPxZrVJvItrJ"
      },
      "execution_count": 313,
      "outputs": []
    },
    {
      "cell_type": "code",
      "source": [
        "# boxplot para ambas disciplinas\n",
        "plt.figure(figsize=(10, 6))\n",
        "sns.boxplot(data = df_ciencias_redacao, orient='h', palette='Set3')\n",
        "\n",
        "# adicionando título e rótulos aos eixos\n",
        "plt.title('Boxplot de Ciências da Natureza e Redação')\n",
        "plt.xlabel('Notas')\n",
        "plt.ylabel('Disciplina')\n",
        "\n",
        "# otimizando visual\n",
        "sns.despine()\n",
        "plt.grid(axis='x', linestyle='--', alpha=0.6)\n",
        "plt.show()"
      ],
      "metadata": {
        "colab": {
          "base_uri": "https://localhost:8080/",
          "height": 565
        },
        "id": "LfC2miXlCPDo",
        "outputId": "6c97cf57-c1a4-41e9-c173-9487a2e372d2"
      },
      "execution_count": 314,
      "outputs": [
        {
          "output_type": "display_data",
          "data": {
            "text/plain": [
              "<Figure size 1000x600 with 1 Axes>"
            ],
            "image/png": "[encoded data removed]"
          },
          "metadata": {}
        }
      ]
    },
    {
      "cell_type": "code",
      "source": [
        "for column in df_ciencias_redacao:\n",
        "    outlier(df_ciencias_redacao,column)"
      ],
      "metadata": {
        "colab": {
          "base_uri": "https://localhost:8080/"
        },
        "id": "iQ6MlnCLb3A6",
        "outputId": "7a0a3bb4-e4f7-4c37-98c6-7bfd89122edd"
      },
      "execution_count": 315,
      "outputs": [
        {
          "output_type": "stream",
          "name": "stdout",
          "text": [
            "Disciplina: Ciências da natureza, o número de outliers encontrados foi:  2\n",
            "Disciplina: Redação, o número de outliers encontrados foi:  3\n"
          ]
        }
      ]
    },
    {
      "cell_type": "markdown",
      "source": [
        "#### **<font color='f9e79f'> Resposta: </font>** Foram encontrados 2 outliers para a disciplina Ciências da Natureza; e 3 outliers para a disciplina Redação. Conforme código acima.\n"
      ],
      "metadata": {
        "id": "WxNC4TL61xGg"
      }
    },
    {
      "cell_type": "markdown",
      "source": [
        "#### 9. Remova todos os outliers e verifique se eles são passíveis de alterar a média nacional significativamente? (considere significativamente um valor acima de 5%)"
      ],
      "metadata": {
        "id": "KVu-zDiz4u5l"
      }
    },
    {
      "cell_type": "code",
      "source": [
        "def remover_outlier(df, columns):\n",
        "    df_sem_outlier = df.copy()  # Crie uma cópia do DataFrame para evitar modificações indesejadas\n",
        "\n",
        "    for column in columns:\n",
        "        q1 = df_sem_outlier[column].quantile(0.25)\n",
        "        q3 = df_sem_outlier[column].quantile(0.75)\n",
        "        iqr = q3 - q1\n",
        "        lower = q1 - 1.5 * iqr\n",
        "        upper = q3 + 1.5 * iqr\n",
        "\n",
        "        # Remova os outliers da coluna atual\n",
        "        df_sem_outlier = df_sem_outlier[(df_sem_outlier[column] >= lower) & (df_sem_outlier[column] <= upper)]\n",
        "\n",
        "    return df_sem_outlier\n",
        "\n",
        "# Suponha que você tenha um DataFrame chamado 'df' com as colunas mencionadas.\n",
        "# colunas = ['Linguagens', 'Ciências humanas', 'Ciências da natureza', 'Matemática', 'Redação']\n",
        "df_sem_outlier = remover_outlier(df, disciplinas)\n",
        "\n",
        "medias_sem_outlier = df_sem_outlier.mean(numeric_only=True).dropna()\n",
        "medias_com_outlier = df.mean(numeric_only=True).dropna()\n",
        "\n",
        "print('As médias removendo os outliers são:')\n",
        "print(medias_sem_outlier)\n",
        "\n",
        "print('\\nAs médias sem remover os outliers são:')\n",
        "print(medias_com_outlier)"
      ],
      "metadata": {
        "colab": {
          "base_uri": "https://localhost:8080/"
        },
        "id": "V65YV3CR0oQF",
        "outputId": "e2f3abcd-b233-43b9-965c-074e02fb6fe6"
      },
      "execution_count": 316,
      "outputs": [
        {
          "output_type": "stream",
          "name": "stdout",
          "text": [
            "As médias removendo os outliers são:\n",
            "Linguagens              517.183638\n",
            "Ciências humanas        527.190923\n",
            "Ciências da natureza    501.359534\n",
            "Matemática              535.316784\n",
            "Redação                 640.684686\n",
            "dtype: float64\n",
            "\n",
            "As médias sem remover os outliers são:\n",
            "Linguagens              514.524809\n",
            "Ciências humanas        527.042281\n",
            "Ciências da natureza    499.315583\n",
            "Matemática              535.965660\n",
            "Redação                 637.783532\n",
            "dtype: float64\n"
          ]
        }
      ]
    },
    {
      "cell_type": "code",
      "source": [
        "# calculando se possui diferença percentual significativa\n",
        "\n",
        "for disciplina in disciplinas:\n",
        "    diferenca_percentual = ((df_sem_outlier[disciplina].mean() - df[disciplina].mean()) / df[disciplina].mean()) * 100\n",
        "\n",
        "    alteracao_significativa = abs(diferenca_percentual) > 5 ## verificando o grau de significância '>5%'\n",
        "\n",
        "    # resultados para cada disciplina\n",
        "    print(f'{disciplina}:')\n",
        "    print(f' - Percentual de alteração na média: {diferenca_percentual:.2f}%')\n",
        "    print(f' - Alteração significativa: {alteracao_significativa}\\n')"
      ],
      "metadata": {
        "colab": {
          "base_uri": "https://localhost:8080/"
        },
        "id": "Xm_NyrszzTFq",
        "outputId": "3476948e-e53a-4c66-a4bf-0eef9ef1a873"
      },
      "execution_count": 317,
      "outputs": [
        {
          "output_type": "stream",
          "name": "stdout",
          "text": [
            "Linguagens:\n",
            " - Percentual de alteração na média: 0.52%\n",
            " - Alteração significativa: False\n",
            "\n",
            "Ciências humanas:\n",
            " - Percentual de alteração na média: 0.03%\n",
            " - Alteração significativa: False\n",
            "\n",
            "Ciências da natureza:\n",
            " - Percentual de alteração na média: 0.41%\n",
            " - Alteração significativa: False\n",
            "\n",
            "Matemática:\n",
            " - Percentual de alteração na média: -0.12%\n",
            " - Alteração significativa: False\n",
            "\n",
            "Redação:\n",
            " - Percentual de alteração na média: 0.45%\n",
            " - Alteração significativa: False\n",
            "\n"
          ]
        }
      ]
    },
    {
      "cell_type": "markdown",
      "source": [
        "#### **<font color='f9e79f'> Resposta: </font>** A ausência de outliers alterou a média de todas as disciplinas, porém em nenhuma delas a alteração foi considerada significativa.\n"
      ],
      "metadata": {
        "id": "A-Ku0F67032z"
      }
    },
    {
      "cell_type": "markdown",
      "source": [
        "#### 10. Considerando valores nulos, tente encontrar qual seria a melhor medida de tendência que pode substituir as notas nulas. Média, moda ou mediana? Substitua o valor por todos os três e diga qual delas altera menos a média geral e o desvio padrão."
      ],
      "metadata": {
        "id": "lG1KpR4m4vJR"
      }
    },
    {
      "cell_type": "code",
      "source": [
        "df.isna().sum()"
      ],
      "metadata": {
        "colab": {
          "base_uri": "https://localhost:8080/"
        },
        "id": "vl-SurmBE9_B",
        "outputId": "02ae5f4f-520d-4728-8f20-4953f6b7ea52"
      },
      "execution_count": 318,
      "outputs": [
        {
          "output_type": "execute_result",
          "data": {
            "text/plain": [
              "Linguagens              103\n",
              "Ciências humanas         64\n",
              "Ciências da natureza    176\n",
              "Matemática               76\n",
              "Redação                 140\n",
              "Sexo                      0\n",
              "dtype: int64"
            ]
          },
          "metadata": {},
          "execution_count": 318
        }
      ]
    },
    {
      "cell_type": "code",
      "source": [
        "df.mean()"
      ],
      "metadata": {
        "colab": {
          "base_uri": "https://localhost:8080/"
        },
        "id": "zUch7Ad0qzMh",
        "outputId": "86fe70fa-76aa-4481-9344-ae62f8ead684"
      },
      "execution_count": 319,
      "outputs": [
        {
          "output_type": "execute_result",
          "data": {
            "text/plain": [
              "Linguagens              514.524809\n",
              "Ciências humanas        527.042281\n",
              "Ciências da natureza    499.315583\n",
              "Matemática              535.965660\n",
              "Redação                 637.783532\n",
              "dtype: float64"
            ]
          },
          "metadata": {},
          "execution_count": 319
        }
      ]
    },
    {
      "cell_type": "code",
      "source": [
        "df.std()"
      ],
      "metadata": {
        "colab": {
          "base_uri": "https://localhost:8080/"
        },
        "id": "4mEJkzXF7yzX",
        "outputId": "ca14f995-2f62-4de9-a50a-302142cdf250"
      },
      "execution_count": 320,
      "outputs": [
        {
          "output_type": "execute_result",
          "data": {
            "text/plain": [
              "Linguagens               84.009313\n",
              "Ciências humanas         77.811519\n",
              "Ciências da natureza     78.760404\n",
              "Matemática               86.648100\n",
              "Redação                 115.339972\n",
              "dtype: float64"
            ]
          },
          "metadata": {},
          "execution_count": 320
        }
      ]
    },
    {
      "cell_type": "code",
      "source": [
        "# substituindo dados nulos por 'média'\n",
        "\n",
        "def fillna_mean(df):\n",
        "    for column in df.select_dtypes(include=np.number):\n",
        "        df[column] = df[column].fillna(df[column].mean())\n",
        "\n",
        "    df_mean = df.mean()\n",
        "    df_std = df.std()\n",
        "    return print(f\"Média sem dados nulos:\\n{df_mean}\\n\\nDesvio padrão sem dados nulos:\\n{df_std}\")\n",
        "\n",
        "df_nan_mean = df.copy()\n",
        "fillna_mean(df_nan_mean)"
      ],
      "metadata": {
        "colab": {
          "base_uri": "https://localhost:8080/"
        },
        "id": "W-oZYemk7-LF",
        "outputId": "7d7303b2-ee43-4ac6-9f14-1bc7db9e12f4"
      },
      "execution_count": 321,
      "outputs": [
        {
          "output_type": "stream",
          "name": "stdout",
          "text": [
            "Média sem dados nulos:\n",
            "Linguagens              514.524809\n",
            "Ciências humanas        527.042281\n",
            "Ciências da natureza    499.315583\n",
            "Matemática              535.965660\n",
            "Redação                 637.783532\n",
            "dtype: float64\n",
            "\n",
            "Desvio padrão sem dados nulos:\n",
            "Linguagens               79.560718\n",
            "Ciências humanas         75.277806\n",
            "Ciências da natureza     71.486677\n",
            "Matemática               83.286987\n",
            "Redação                 106.953175\n",
            "dtype: float64\n"
          ]
        }
      ]
    },
    {
      "cell_type": "code",
      "source": [
        "# substituindo dados nulos por 'mediana'\n",
        "\n",
        "def fillna_median(df):\n",
        "    for column in df.select_dtypes(include=np.number):\n",
        "        df[column] = df[column].fillna(df[column].median())\n",
        "\n",
        "    df_mean = df.mean()\n",
        "    df_std = df.std()\n",
        "    return print(f\"Média sem dados nulos:\\n{df_mean}\\n\\nDesvio padrão sem dados nulos:\\n{df_std}\")\n",
        "\n",
        "df_nan_median = df.copy()\n",
        "fillna_median(df_nan_median)"
      ],
      "metadata": {
        "colab": {
          "base_uri": "https://localhost:8080/"
        },
        "id": "-Qp6CpB27-YH",
        "outputId": "9d570ca3-b2e3-4009-87c8-61c6ca1ea132"
      },
      "execution_count": 322,
      "outputs": [
        {
          "output_type": "stream",
          "name": "stdout",
          "text": [
            "Média sem dados nulos:\n",
            "Linguagens              514.578415\n",
            "Ciências humanas        526.880850\n",
            "Ciências da natureza    499.520391\n",
            "Matemática              535.759100\n",
            "Redação                 637.432194\n",
            "dtype: float64\n",
            "\n",
            "Desvio padrão sem dados nulos:\n",
            "Linguagens               79.560876\n",
            "Ciências humanas         75.280340\n",
            "Ciências da natureza     71.488051\n",
            "Matemática               83.290104\n",
            "Redação                 106.956723\n",
            "dtype: float64\n"
          ]
        }
      ]
    },
    {
      "cell_type": "code",
      "source": [
        "# substituindo dados nulos por 'moda'\n",
        "\n",
        "def fillna_mode(df):\n",
        "    for column in df.select_dtypes(include=np.number):\n",
        "        df[column] = df[column].fillna(df[column].mode())\n",
        "\n",
        "    df_mean = df.mean()\n",
        "    df_std = df.std()\n",
        "    return print(f\"Média sem dados nulos:\\n{df_mean}\\n\\nDesvio padrão sem dados nulos:\\n{df_std}\")\n",
        "\n",
        "df_nan_mode = df.copy()\n",
        "fillna_mode(df_nan_mode)"
      ],
      "metadata": {
        "colab": {
          "base_uri": "https://localhost:8080/"
        },
        "id": "xVBsf3Hq7-ao",
        "outputId": "501879bc-77ff-4436-ce87-94c081e98c3d"
      },
      "execution_count": 323,
      "outputs": [
        {
          "output_type": "stream",
          "name": "stdout",
          "text": [
            "Média sem dados nulos:\n",
            "Linguagens              514.524809\n",
            "Ciências humanas        527.042281\n",
            "Ciências da natureza    499.315583\n",
            "Matemática              535.965660\n",
            "Redação                 637.815381\n",
            "dtype: float64\n",
            "\n",
            "Desvio padrão sem dados nulos:\n",
            "Linguagens               84.009313\n",
            "Ciências humanas         77.811519\n",
            "Ciências da natureza     78.760404\n",
            "Matemática               86.648100\n",
            "Redação                 114.038611\n",
            "dtype: float64\n"
          ]
        }
      ]
    },
    {
      "cell_type": "markdown",
      "source": [
        "#### **<font color='f9e79f'> Resposta: </font>** Identificamos que a substituição dos dados nulos pela *moda* mostra-se mais efetiva, alterando menos os indicadores de média e desvio padrão dos dados."
      ],
      "metadata": {
        "id": "U_km2dib91i4"
      }
    }
  ]
}